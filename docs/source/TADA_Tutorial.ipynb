{
 "cells": [
  {
   "cell_type": "markdown",
   "metadata": {},
   "source": [
    "# TADA Tutorial\n",
    "\n",
    "In this tutorial I will lead through the different functionalities of TADA. I explain how to download the CNVs and functional elements that are the basis for TADA's filtering and classification pipelines. Then I will use a selection of features for the annotation of TADs. The annotated TADs are the input for the annotation of CNVs, which is the first major application of TAD. I will also show how to use a predifined model to predict the pathogencity of TADs. In the final section I provide a short example on how to train a different classifier based on frequent and rare CNVs. "
   ]
  },
  {
   "cell_type": "markdown",
   "metadata": {},
   "source": [
    "### Data Collection and Preprocessing\n",
    "\n",
    "With the following code a wide range of annotations including TADs and two sets of CNVs are downloaded. The second script preprocesses each file such that they satisfy TADA's format requirements. The annotation of FANTOM5 enhancer with conservation scores requires BigWig files of the multiple sequence alignment. Since these files are as large as 8GB, I previously annotated the set of enhancers and uploaded them to the data directory. I also provide all files nessary for this tutorial in the data folder. So there is no need to download all data_s"
   ]
  },
  {
   "cell_type": "code",
   "execution_count": 2,
   "metadata": {},
   "outputs": [
    {
     "name": "stdout",
     "output_type": "stream",
     "text": [
      "/home/jakob/Documents/Master/TADA/data\n",
      "--2019-08-30 15:52:59--  https://storage.googleapis.com/gnomad-public/papers/2019-sv/gnomad_v2_sv.sites.bed.gz\n",
      "Resolving storage.googleapis.com (storage.googleapis.com)... 216.58.206.16, 2a00:1450:4001:821::2010\n",
      "Connecting to storage.googleapis.com (storage.googleapis.com)|216.58.206.16|:443... connected.\n",
      "HTTP request sent, awaiting response... 200 OK\n",
      "Length: 50592905 (48M) [application/octet-stream]\n",
      "Saving to: ‘gnomad_v2_sv.sites.bed.gz.1’\n",
      "\n",
      "gnomad_v2_sv.sites. 100%[===================>]  48,25M  1,28MB/s    in 39s     \n",
      "\n",
      "2019-08-30 15:53:39 (1,25 MB/s) - ‘gnomad_v2_sv.sites.bed.gz.1’ saved [50592905/50592905]\n",
      "\n",
      "--2019-08-30 15:53:39--  http://ftp.1000genomes.ebi.ac.uk/vol1/ftp/data_collections/hgsv_sv_discovery/working/20181025_EEE_SV-Pop_1/VariantCalls_EEE_SV-Pop_1/EEE_SV-Pop_1.ALL.sites.20181204.bed.gz\n",
      "Resolving ftp.1000genomes.ebi.ac.uk (ftp.1000genomes.ebi.ac.uk)... 193.62.192.8\n",
      "Connecting to ftp.1000genomes.ebi.ac.uk (ftp.1000genomes.ebi.ac.uk)|193.62.192.8|:80... connected.\n",
      "HTTP request sent, awaiting response... 200 OK\n",
      "Length: 14897849 (14M) [application/x-gzip]\n",
      "Saving to: ‘EEE_SV-Pop_1.ALL.sites.20181204.bed.gz.1’\n",
      "\n",
      "EEE_SV-Pop_1.ALL.si 100%[===================>]  14,21M  1,04MB/s    in 15s     \n",
      "\n",
      "2019-08-30 15:53:57 (995 KB/s) - ‘EEE_SV-Pop_1.ALL.sites.20181204.bed.gz.1’ saved [14897849/14897849]\n",
      "\n",
      "--2019-08-30 15:53:57--  https://storage.googleapis.com/gnomad-public/release/2.1.1/constraint/gnomad.v2.1.1.lof_metrics.by_gene.txt.bgz\n",
      "Resolving storage.googleapis.com (storage.googleapis.com)... 216.58.206.16, 2a00:1450:4001:821::2010\n",
      "Connecting to storage.googleapis.com (storage.googleapis.com)|216.58.206.16|:443... connected.\n",
      "HTTP request sent, awaiting response... 200 OK\n",
      "Length: 4609488 (4,4M) [application/octet-stream]\n",
      "Saving to: ‘gnomad.v2.1.1.lof_metrics.by_gene.txt.bgz’\n",
      "\n",
      "gnomad.v2.1.1.lof_m 100%[===================>]   4,40M  1,27MB/s    in 3,5s    \n",
      "\n",
      "2019-08-30 15:54:01 (1,25 MB/s) - ‘gnomad.v2.1.1.lof_metrics.by_gene.txt.bgz’ saved [4609488/4609488]\n",
      "\n",
      "--2019-08-30 15:54:01--  http://www.ebi.ac.uk/gene2phenotype/downloads/DDG2P.csv.gz\n",
      "Resolving www.ebi.ac.uk (www.ebi.ac.uk)... 193.62.193.80\n",
      "Connecting to www.ebi.ac.uk (www.ebi.ac.uk)|193.62.193.80|:80... connected.\n",
      "HTTP request sent, awaiting response... 301 Moved Permanently\n",
      "Location: https://www.ebi.ac.uk/gene2phenotype/downloads/DDG2P.csv.gz [following]\n",
      "--2019-08-30 15:54:01--  https://www.ebi.ac.uk/gene2phenotype/downloads/DDG2P.csv.gz\n",
      "Connecting to www.ebi.ac.uk (www.ebi.ac.uk)|193.62.193.80|:443... connected.\n",
      "HTTP request sent, awaiting response... 200 OK\n",
      "Length: 204172 (199K) [application/zip]\n",
      "Saving to: ‘DDG2P.csv.gz.1’\n",
      "\n",
      "DDG2P.csv.gz.1      100%[===================>] 199,39K   888KB/s    in 0,2s    \n",
      "\n",
      "2019-08-30 15:54:03 (888 KB/s) - ‘DDG2P.csv.gz.1’ saved [204172/204172]\n",
      "\n",
      "--2019-08-30 15:54:03--  https://decipher.sanger.ac.uk/files/downloads/HI_Predictions_Version3.bed.gz\n",
      "Resolving decipher.sanger.ac.uk (decipher.sanger.ac.uk)... 193.62.203.164, 193.62.203.163, 2001:630:206:4::163, ...\n",
      "Connecting to decipher.sanger.ac.uk (decipher.sanger.ac.uk)|193.62.203.164|:443... connected.\n",
      "HTTP request sent, awaiting response... 200 OK\n",
      "Length: 565782 (553K) [application/x-gzip]\n",
      "Saving to: ‘HI_Predictions_Version3.bed.gz’\n",
      "\n",
      "HI_Predictions_Vers 100%[===================>] 552,52K   871KB/s    in 0,6s    \n",
      "\n",
      "2019-08-30 15:54:04 (871 KB/s) - ‘HI_Predictions_Version3.bed.gz’ saved [565782/565782]\n",
      "\n",
      "--2019-08-30 15:54:04--  http://fantom.gsc.riken.jp/5/datafiles/latest/extra/Enhancers/human_permissive_enhancers_phase_1_and_2.bed.gz\n",
      "Resolving fantom.gsc.riken.jp (fantom.gsc.riken.jp)... 134.160.84.66\n",
      "Connecting to fantom.gsc.riken.jp (fantom.gsc.riken.jp)|134.160.84.66|:80... connected.\n",
      "HTTP request sent, awaiting response... 200 OK\n",
      "Length: 1704842 (1,6M) [application/x-gzip]\n",
      "Saving to: ‘human_permissive_enhancers_phase_1_and_2.bed.gz.1’\n",
      "\n",
      "human_permissive_en 100%[===================>]   1,62M   282KB/s    in 6,5s    \n",
      "\n",
      "2019-08-30 15:54:12 (256 KB/s) - ‘human_permissive_enhancers_phase_1_and_2.bed.gz.1’ saved [1704842/1704842]\n",
      "\n",
      "--2019-08-30 15:54:12--  https://www.ncbi.nlm.nih.gov/pmc/articles/PMC5389712/bin/gkx145_Supp.zip\n",
      "Resolving www.ncbi.nlm.nih.gov (www.ncbi.nlm.nih.gov)... 130.14.29.110, 2607:f220:41e:4290::110\n",
      "Connecting to www.ncbi.nlm.nih.gov (www.ncbi.nlm.nih.gov)|130.14.29.110|:443... connected.\n",
      "HTTP request sent, awaiting response... 200 OK\n",
      "Length: 2100395 (2,0M) [application/zip]\n",
      "Saving to: ‘gkx145_Supp.zip.1’\n",
      "\n",
      "gkx145_Supp.zip.1   100%[===================>]   2,00M   745KB/s    in 2,8s    \n",
      "\n",
      "2019-08-30 15:54:15 (745 KB/s) - ‘gkx145_Supp.zip.1’ saved [2100395/2100395]\n",
      "\n",
      "--2019-08-30 15:54:15--  https://www.cell.com/cms/10.1016/j.cell.2016.08.071/attachment/9e010545-053a-4166-9b0d-7cb8c8f90ca7/mmc2.xlsx\n",
      "Resolving www.cell.com (www.cell.com)... 65.156.1.100\n",
      "Connecting to www.cell.com (www.cell.com)|65.156.1.100|:443... connected.\n",
      "HTTP request sent, awaiting response... 302 Found\n",
      "Location: https://secure.jbs.elsevierhealth.com/action/getSharedSiteSession?redirect=https%3A%2F%2Fwww.cell.com%2Fcms%2F10.1016%2Fj.cell.2016.08.071%2Fattachment%2F9e010545-053a-4166-9b0d-7cb8c8f90ca7%2Fmmc2.xlsx&rc=0 [following]\n",
      "--2019-08-30 15:54:16--  https://secure.jbs.elsevierhealth.com/action/getSharedSiteSession?redirect=https%3A%2F%2Fwww.cell.com%2Fcms%2F10.1016%2Fj.cell.2016.08.071%2Fattachment%2F9e010545-053a-4166-9b0d-7cb8c8f90ca7%2Fmmc2.xlsx&rc=0\n",
      "Resolving secure.jbs.elsevierhealth.com (secure.jbs.elsevierhealth.com)... 65.156.1.100\n",
      "Connecting to secure.jbs.elsevierhealth.com (secure.jbs.elsevierhealth.com)|65.156.1.100|:443... connected.\n",
      "HTTP request sent, awaiting response... 302 Found\n",
      "Location: https://secure.jbs.elsevierhealth.com/action/getSharedSiteSession?rc=1&redirect=https%3A%2F%2Fwww.cell.com%2Fcms%2F10.1016%2Fj.cell.2016.08.071%2Fattachment%2F9e010545-053a-4166-9b0d-7cb8c8f90ca7%2Fmmc2.xlsx [following]\n",
      "--2019-08-30 15:54:18--  https://secure.jbs.elsevierhealth.com/action/getSharedSiteSession?rc=1&redirect=https%3A%2F%2Fwww.cell.com%2Fcms%2F10.1016%2Fj.cell.2016.08.071%2Fattachment%2F9e010545-053a-4166-9b0d-7cb8c8f90ca7%2Fmmc2.xlsx\n",
      "Reusing existing connection to secure.jbs.elsevierhealth.com:443.\n",
      "HTTP request sent, awaiting response... 302 Found\n",
      "Location: https://id.elsevier.com/ACW/?return=https%3A%2F%2Fsecure.jbs.elsevierhealth.com%2Faction%2FconsumeSsoCookie%3FredirectUri%3Dhttps%253A%252F%252Fwww.cell.com%252Faction%252FconsumeSharedSessionAction%253FJSESSIONID%253Daaa7zlbPAPqEAdv47RsZw%2526MAID%253DVhiETwEUFB2UtD%25252FXoJjpGA%25253D%25253D%2526SERVER%253DWZ6myaEXBLGIX%25252BcCjhpT2A%25253D%25253D%2526ORIGIN%253D863963321%2526RD%253DRD%26code%3Dnull [following]\n",
      "--2019-08-30 15:54:18--  https://id.elsevier.com/ACW/?return=https%3A%2F%2Fsecure.jbs.elsevierhealth.com%2Faction%2FconsumeSsoCookie%3FredirectUri%3Dhttps%253A%252F%252Fwww.cell.com%252Faction%252FconsumeSharedSessionAction%253FJSESSIONID%253Daaa7zlbPAPqEAdv47RsZw%2526MAID%253DVhiETwEUFB2UtD%25252FXoJjpGA%25253D%25253D%2526SERVER%253DWZ6myaEXBLGIX%25252BcCjhpT2A%25253D%25253D%2526ORIGIN%253D863963321%2526RD%253DRD%26code%3Dnull\n",
      "Resolving id.elsevier.com (id.elsevier.com)... 104.16.130.230, 104.16.131.230\n",
      "Connecting to id.elsevier.com (id.elsevier.com)|104.16.130.230|:443... connected.\n",
      "HTTP request sent, awaiting response... 302 Found\n",
      "Location: https://secure.jbs.elsevierhealth.com/action/consumeSsoCookie?redirectUri=https%3A%2F%2Fwww.cell.com%2Faction%2FconsumeSharedSessionAction%3FJSESSIONID%3Daaa7zlbPAPqEAdv47RsZw%26MAID%3DVhiETwEUFB2UtD%252FXoJjpGA%253D%253D%26SERVER%3DWZ6myaEXBLGIX%252BcCjhpT2A%253D%253D%26ORIGIN%3D863963321%26RD%3DRD&code=null&acw=&utt= [following]\n",
      "--2019-08-30 15:54:18--  https://secure.jbs.elsevierhealth.com/action/consumeSsoCookie?redirectUri=https%3A%2F%2Fwww.cell.com%2Faction%2FconsumeSharedSessionAction%3FJSESSIONID%3Daaa7zlbPAPqEAdv47RsZw%26MAID%3DVhiETwEUFB2UtD%252FXoJjpGA%253D%253D%26SERVER%3DWZ6myaEXBLGIX%252BcCjhpT2A%253D%253D%26ORIGIN%3D863963321%26RD%3DRD&code=null&acw=&utt=\n",
      "Connecting to secure.jbs.elsevierhealth.com (secure.jbs.elsevierhealth.com)|65.156.1.100|:443... connected.\n",
      "HTTP request sent, awaiting response... 302 Found\n",
      "Location: https://www.cell.com/action/consumeSharedSessionAction?JSESSIONID=aaa7zlbPAPqEAdv47RsZw&MAID=VhiETwEUFB2UtD%2FXoJjpGA%3D%3D&SERVER=WZ6myaEXBLGIX%2BcCjhpT2A%3D%3D&ORIGIN=863963321&RD=RD [following]\n",
      "--2019-08-30 15:54:19--  https://www.cell.com/action/consumeSharedSessionAction?JSESSIONID=aaa7zlbPAPqEAdv47RsZw&MAID=VhiETwEUFB2UtD%2FXoJjpGA%3D%3D&SERVER=WZ6myaEXBLGIX%2BcCjhpT2A%3D%3D&ORIGIN=863963321&RD=RD\n"
     ]
    },
    {
     "name": "stdout",
     "output_type": "stream",
     "text": [
      "Connecting to www.cell.com (www.cell.com)|65.156.1.100|:443... connected.\n",
      "HTTP request sent, awaiting response... 302 Found\n",
      "Location: https://www.cell.com/action/consumeSharedSessionAction?JSESSIONID=aaa7zlbPAPqEAdv47RsZw&MAID=VhiETwEUFB2UtD%2FXoJjpGA%3D%3D&SERVER=WZ6myaEXBLGIX%2BcCjhpT2A%3D%3D&ORIGIN=863963321&RD=RD&rtc=0 [following]\n",
      "--2019-08-30 15:54:21--  https://www.cell.com/action/consumeSharedSessionAction?JSESSIONID=aaa7zlbPAPqEAdv47RsZw&MAID=VhiETwEUFB2UtD%2FXoJjpGA%3D%3D&SERVER=WZ6myaEXBLGIX%2BcCjhpT2A%3D%3D&ORIGIN=863963321&RD=RD&rtc=0\n",
      "Connecting to www.cell.com (www.cell.com)|65.156.1.100|:443... connected.\n",
      "HTTP request sent, awaiting response... 302 Found\n",
      "Location: https://www.cell.com/cms/10.1016/j.cell.2016.08.071/attachment/9e010545-053a-4166-9b0d-7cb8c8f90ca7/mmc2.xlsx [following]\n",
      "--2019-08-30 15:54:22--  https://www.cell.com/cms/10.1016/j.cell.2016.08.071/attachment/9e010545-053a-4166-9b0d-7cb8c8f90ca7/mmc2.xlsx\n",
      "Connecting to www.cell.com (www.cell.com)|65.156.1.100|:443... connected.\n",
      "HTTP request sent, awaiting response... 200 OK\n",
      "Length: 1457900 (1,4M) [application/vnd.openxmlformats-officedocument.spreadsheetml.sheet]\n",
      "Saving to: ‘mmc2.xlsx.1’\n",
      "\n",
      "mmc2.xlsx.1         100%[===================>]   1,39M   131KB/s    in 11s     \n",
      "\n",
      "2019-08-30 15:54:34 (135 KB/s) - ‘mmc2.xlsx.1’ saved [1457900/1457900]\n",
      "\n",
      "--2019-08-30 15:54:34--  http://hgdownload.cse.ucsc.edu/goldenpath/hg19/encodeDCC/wgEncodeBroadHmm/wgEncodeBroadHmmH1hescHMM.bed.gz\n",
      "Resolving hgdownload.cse.ucsc.edu (hgdownload.cse.ucsc.edu)... 128.114.119.163\n",
      "Connecting to hgdownload.cse.ucsc.edu (hgdownload.cse.ucsc.edu)|128.114.119.163|:80... connected.\n",
      "HTTP request sent, awaiting response... 200 OK\n",
      "Length: 5974589 (5,7M) [application/x-gzip]\n",
      "Saving to: ‘wgEncodeBroadHmmH1hescHMM.bed.gz.1’\n",
      "\n",
      "wgEncodeBroadHmmH1h 100%[===================>]   5,70M   592KB/s    in 16s     \n",
      "\n",
      "2019-08-30 15:54:51 (354 KB/s) - ‘wgEncodeBroadHmmH1hescHMM.bed.gz.1’ saved [5974589/5974589]\n",
      "\n",
      "--2019-08-30 15:54:51--  http://humanparalogy.gs.washington.edu/build37/data/GRCh37GenomicSuperDup.tab\n",
      "Resolving humanparalogy.gs.washington.edu (humanparalogy.gs.washington.edu)... 128.95.55.208\n",
      "Connecting to humanparalogy.gs.washington.edu (humanparalogy.gs.washington.edu)|128.95.55.208|:80... connected.\n",
      "HTTP request sent, awaiting response... 200 OK\n",
      "Length: 9964268 (9,5M) [text/plain]\n",
      "Saving to: ‘GRCh37GenomicSuperDup.tab.1’\n",
      "\n",
      "GRCh37GenomicSuperD 100%[===================>]   9,50M  1,27MB/s    in 9,1s    \n",
      "\n",
      "2019-08-30 15:55:01 (1,05 MB/s) - ‘GRCh37GenomicSuperDup.tab.1’ saved [9964268/9964268]\n",
      "\n",
      "--2019-08-30 15:55:01--  https://science.sciencemag.org/highwire/filestream/721792/field_highwire_adjunct_files/5/aau1043_DataS4.gz\n",
      "Resolving science.sciencemag.org (science.sciencemag.org)... 104.16.73.12, 104.16.75.12, 104.16.72.12, ...\n",
      "Connecting to science.sciencemag.org (science.sciencemag.org)|104.16.73.12|:443... connected.\n",
      "HTTP request sent, awaiting response... 302 Found\n",
      "Location: https://science.sciencemag.org/content/sci/suppl/2019/01/23/363.6425.eaau1043.DC1/aau1043_DataS4.gz [following]\n",
      "--2019-08-30 15:55:02--  https://science.sciencemag.org/content/sci/suppl/2019/01/23/363.6425.eaau1043.DC1/aau1043_DataS4.gz\n",
      "Reusing existing connection to science.sciencemag.org:443.\n",
      "HTTP request sent, awaiting response... 200 OK\n",
      "Length: 44776852 (43M) [application/x-gzip]\n",
      "Saving to: ‘aau1043_DataS4.gz.1’\n",
      "\n",
      "aau1043_DataS4.gz.1 100%[===================>]  42,70M  1,29MB/s    in 34s     \n",
      "\n",
      "2019-08-30 15:55:37 (1,26 MB/s) - ‘aau1043_DataS4.gz.1’ saved [44776852/44776852]\n",
      "\n",
      "Reading liftover chains\n",
      "Mapping coordinates\n",
      "gzip: HI_Predictions_Version3.bed already exists; do you wish to overwrite (y or n)? ^C\n"
     ]
    }
   ],
   "source": [
    "#%cd ..\n",
    "\n",
    "# Download all annotations\n",
    "#!bash data_sources.sh\n",
    "\n",
    "# Preprocess the data\n",
    "#!bash filter_data.sh"
   ]
  },
  {
   "cell_type": "markdown",
   "metadata": {},
   "source": [
    "### Annotation of TADs\n",
    "\n",
    "For the default set of annotated TADs I only considered the following annotations:\n",
    "\n",
    "- GnomAD genes with pLI, LOEUF and HI scores\n",
    "- FANTOM5 enhancer with PhastCons scores\n",
    "- DDG2P genes\n",
    "- CTCF binding sites.\n",
    "    \n",
    "As previously described in the advanced usage section, TADs are annoated using the *annotate_tads* script. The following code snipped shows the annotation of TADs with the above mentioned set of annotations."
   ]
  },
  {
   "cell_type": "code",
   "execution_count": 1,
   "metadata": {},
   "outputs": [
    {
     "name": "stdout",
     "output_type": "stream",
     "text": [
      "/home/jakob/Documents/Master/TADA\n"
     ]
    }
   ],
   "source": [
    "# Navigate into the TADA main directory\n",
    "%cd ../../\n",
    "\n",
    "# Annotate TADs\n",
    "!annotate_tads -t data/TAD.Dixon.500M.50kb.bed -an genes enhancers DDG2P CTCF -af data/GnomAD.pLI.LOEUF.HI.bed data/fantom5_enhancer_phastcon_average.bed data/DDG2P.Genes.Pos.bed data/ctcf_peaks_fibroblasts.bed -o data/default_annotated_TADs.p"
   ]
  },
  {
   "cell_type": "markdown",
   "metadata": {},
   "source": [
    "### Annotation of CNVs\n",
    "\n",
    "The now created set of annotated TADs can be used to annotate the two CNV sets. This process does not include the pathogencity prediction. The resulting CSV-files therefore only contains CNVs annotated with the extended feature set."
   ]
  },
  {
   "cell_type": "code",
   "execution_count": 4,
   "metadata": {},
   "outputs": [],
   "source": [
    "# Each of the annotation runs produces a pickled CNV file and a CSV-file named Annotated_CNVs.p/Annotated_CNVS.csv.\n",
    "\n",
    "# Annotate the frequenct CNVs\n",
    "!annotate_cnvs -c data/combined.frequent.Eichler.GnomAD.bed -o data/\n",
    "\n",
    "# Rename the resulting annotated CNVs\n",
    "!mv data/Annotated_CNVs.p data/Frequent_CNVs.p\n",
    "!mv data/Annotated_CNVs.csv data/Frequent_CNVs.csv\n",
    "\n",
    "# Annotate the rare CNVs\n",
    "!annotate_cnvs -c data/gnomad_v2_sv.sites.PASS.rare.fixedlines.formatted.bed -o data/\n",
    "\n",
    "# Rename the resulting annotated CNVs\n",
    "!mv data/Annotated_CNVs.p data/Rare_CNVs.p\n",
    "!mv data/Annotated_CNVs.csv data/Rare_CNVs.csv"
   ]
  },
  {
   "cell_type": "markdown",
   "metadata": {},
   "source": [
    "### Pathogenicity Prediction\n",
    "\n",
    "The annotation of CNVs can also be combined with pathogencity prediction. Using a predifined model I can compute probabilities of being pathogenic for each CNV and add them to the resulting CSV-file."
   ]
  },
  {
   "cell_type": "code",
   "execution_count": 5,
   "metadata": {},
   "outputs": [],
   "source": [
    "# Predict the pathogencity for the frequenct CNVs\n",
    "!predict_variants -c data/combined.frequent.Eichler.GnomAD.bed -o data/\n",
    "\n",
    "# Rename the resulting annotated CNVs\n",
    "!mv data/Annotated_CNVs.p data/Frequent_CNVs_predicted.p\n",
    "!mv data/Annotated_CNVs.csv data/Frequent_CNVs_predicted.csv\n",
    "\n",
    "# Annotate the rare CNVs\n",
    "!predict_variants -c data/gnomad_v2_sv.sites.PASS.rare.fixedlines.formatted.bed -o data/\n",
    "\n",
    "# Rename the resulting annotated CNVs\n",
    "!mv data/Annotated_CNVs.p data/Rare_CNVs_predicted.p\n",
    "!mv data/Annotated_CNVs.csv data/Rare_CNVs_predicted.csv"
   ]
  },
  {
   "cell_type": "markdown",
   "metadata": {},
   "source": [
    "The pathogencity predictions and annotations can be explored manually or as shown in the code snippet below, anayzed and compared using visualizations of the data distributions. The figure bewlow shows the distribution of pathogencity probabilities for frequent and rare variants."
   ]
  },
  {
   "cell_type": "code",
   "execution_count": 14,
   "metadata": {},
   "outputs": [
    {
     "data": {
      "image/png": "[encoded data removed]",
      "text/plain": [
       "<Figure size 864x720 with 1 Axes>"
      ]
     },
     "metadata": {
      "needs_background": "light"
     },
     "output_type": "display_data"
    }
   ],
   "source": [
    "# Import packages\n",
    "import pandas as pd\n",
    "import seaborn as sns\n",
    "import matplotlib.pyplot as plt\n",
    "import numpy as np\n",
    "\n",
    "# Read the csv files as Dataframes\n",
    "frequent_df = pd.read_csv('data/Frequent_CNVs_predicted.csv',sep='\\t')\n",
    "rare_df = pd.read_csv('data/Rare_CNVs_predicted.csv',sep='\\t')\n",
    "\n",
    "# Create new Series from pathogenitcity probabilities\n",
    "patho_series = pd.concat([frequent_df['Predicted Pathogenicity'],rare_df['Predicted Pathogenicity']],ignore_index=True)\n",
    "\n",
    "# Create a Series with IDs\n",
    "ids = pd.Series(np.concatenate([np.repeat('Frequent',frequent_df.shape[0]),np.repeat('Rare',rare_df.shape[0])]))\n",
    "\n",
    "# Merge IDs and pathogencity into new Dataframe\n",
    "plot_df = pd.DataFrame(dict(ID=ids, Pathogenicity=patho_series))\n",
    "\n",
    "# Plot the distribtion of pathogenicity probabilities for each CNV class\n",
    "plt.figure(figsize=(12,10))\n",
    "plt.title('Pathogenicity Probabilities by Allele Frequency')\n",
    "sns.violinplot(x='ID',y='Pathogenicity',data=plot_df)\n",
    "plt.show()"
   ]
  },
  {
   "cell_type": "markdown",
   "metadata": {},
   "source": [
    "### Classification\n",
    "\n",
    "TADA also allows the user to train a classifier based on two sets of annotated CNVs. The original pathogenic CNVs I used to trained the pathogencity prediction model are not yet publicly avaialble. I therefore cannot include them into this tutorial. However, in the previous part of the tutorial I annotated frequent and rare CNVs. So I can use these two sets to train a classifier that might be able to distinguish between rare and frequenct variants based on functional impact. Nevertheless, I do not expect a high performance, since both rare and frequent CNVs were called from \"healthy\" individuals. In theory, none of them should a have a functional impact."
   ]
  },
  {
   "cell_type": "code",
   "execution_count": 19,
   "metadata": {},
   "outputs": [
    {
     "name": "stdout",
     "output_type": "stream",
     "text": [
      "training with 10-fold CV...\n",
      "/home/jakob/.local/lib/python3.7/site-packages/sklearn/ensemble/forest.py:245: FutureWarning: The default value of n_estimators will change from 10 in version 0.20 to 100 in 0.22.\n",
      "  \"10 in version 0.20 to 100 in 0.22.\", FutureWarning)\n",
      "Average Precision: 0.2317222550830627\n",
      "Average Precision: 0.2304127169479181\n",
      "Average Precision: 0.23588905601606486\n",
      "Average Precision: 0.23202527446591084\n",
      "Average Precision: 0.22999511490457608\n",
      "Average Precision: 0.2298292001703304\n",
      "Average Precision: 0.23186526995892176\n",
      "Average Precision: 0.23139826207259\n",
      "Average Precision: 0.2327493665553235\n",
      "Average Precision: 0.2343201603334087\n",
      "10-fold CV Average Precision Mean: 0.2320206676508107\n",
      "testing...\n",
      "                precision    recall  f1-score   support\n",
      "\n",
      "non-pathogenic       0.52      0.54      0.53      2210\n",
      "    pathogenic       0.06      0.05      0.06      1184\n",
      "\n",
      "      accuracy                           0.37      3394\n",
      "     macro avg       0.29      0.30      0.29      3394\n",
      "  weighted avg       0.36      0.37      0.36      3394\n",
      "\n"
     ]
    }
   ],
   "source": [
    "# Train a Random Forest using the two previously annotated Variant sets\n",
    "!classification_run -c1 data/Frequent_CNVs.p -c2 data/Rare_CNVs.p -f extended_continuous -cls rf -o data/"
   ]
  }
 ],
 "metadata": {
  "kernelspec": {
   "display_name": "Python 3",
   "language": "python",
   "name": "python3"
  },
  "language_info": {
   "codemirror_mode": {
    "name": "ipython",
    "version": 3
   },
   "file_extension": ".py",
   "mimetype": "text/x-python",
   "name": "python",
   "nbconvert_exporter": "python",
   "pygments_lexer": "ipython3",
   "version": "3.7.3"
  }
 },
 "nbformat": 4,
 "nbformat_minor": 2
}
